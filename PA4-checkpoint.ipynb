{
 "cells": [
  {
   "cell_type": "markdown",
   "id": "2dafdf44",
   "metadata": {},
   "source": [
    "# PA4\n",
    "## Corey Merritt\n",
    "### Python\n",
    "#### Fall 2023"
   ]
  },
  {
   "cell_type": "markdown",
   "id": "1f09471e",
   "metadata": {},
   "source": [
    "Task 1: Grade Calculator\n",
    "A. Create a list named grades containing five numerical grades (0-100).\n",
    "B. Calculate the average grade from the list.\n",
    "C. Use an if-else condition to determine the letter grade based on the average as follows:\n",
    " 90-100: \"A\"\n",
    "80-89: \"B\"\n",
    "70-79: \"C\"\n",
    "60-69: \"D\"\n",
    "Below 60: \"F\"\n",
    "Print the average grade and corresponding letter grade."
   ]
  },
  {
   "cell_type": "code",
   "execution_count": 2,
   "id": "4ee8f9d8",
   "metadata": {},
   "outputs": [
    {
     "name": "stdout",
     "output_type": "stream",
     "text": [
      "Average grade 82.0 is a B\n"
     ]
    }
   ],
   "source": [
    "grade=[85,92,78,64,91]\n",
    "ave_grade=sum(grade)/len(grade)\n",
    "if 90 <= ave_grade <=100:\n",
    "    print(f\"Average grade {ave_grade} is an A\")\n",
    "elif 80 <= ave_grade < 90:\n",
    "    print(f\"Average grade {ave_grade} is a B\")\n",
    "elif 70 <= ave_grade < 80:\n",
    "    print(f\"Average grade {ave_grade} is a C\")\n",
    "elif 60 <= ave_grade < 70:\n",
    "    print(f\"Average grade {ave_grade} is a D\")\n",
    "else:\n",
    "    print(f\"Average grade {ave_grade}is a F\")"
   ]
  },
  {
   "cell_type": "markdown",
   "id": "8e9ee74b",
   "metadata": {},
   "source": [
    "Task 2: Tuple Unpacking\n",
    "A. Create a tuple named student with your first name, last name, age, and a subject (in that \n",
    "order).\n",
    "B. Use tuple unpacking and an if-else condition to check if the student's age is above 18.\n",
    "C. If the age is above 18, print a message indicating that the student is an adult, otherwise print \n",
    "a message indicating that the student is a minor."
   ]
  },
  {
   "cell_type": "code",
   "execution_count": 9,
   "id": "bf6a10f4",
   "metadata": {},
   "outputs": [
    {
     "name": "stdout",
     "output_type": "stream",
     "text": [
      "Corey Merritt is an adult.\n"
     ]
    }
   ],
   "source": [
    "student = (\"Corey\", \"Merritt\", 20, \"CS150\")\n",
    "first_name, last_name, age, subject = student\n",
    "if age>18:\n",
    "    print(f\"{first_name} {last_name} is an adult.\")\n",
    "else:\n",
    "    print(f\"{first_name} {last_name} is a minor.\")"
   ]
  },
  {
   "cell_type": "markdown",
   "id": "e676137f",
   "metadata": {},
   "source": [
    "Task 3: Month and date\n",
    "Write a Python program that will accept a number from 1 to 12 and display the name of the \n",
    "month and days in the month. Consider that the year is a regular year."
   ]
  },
  {
   "cell_type": "code",
   "execution_count": 10,
   "id": "050344a7",
   "metadata": {},
   "outputs": [
    {
     "name": "stdout",
     "output_type": "stream",
     "text": [
      "Enter a number from 1:12: 8\n",
      "August has 31 days.\n"
     ]
    }
   ],
   "source": [
    "month=int(input(\"Enter a number from 1:12: \"))\n",
    "months=[\"January\",\"Feburary\",\"March\",\"April\",\"May\",\"June\",\"July\",\"August\",\"September\",\"October\",\"Novemeber\",\"December\"]\n",
    "days_in_month=[31,28,31,30,31,30,31,31,30,31,30,31]\n",
    "if 1 <= month <= 12:\n",
    "    month_name=months[month-1]\n",
    "    number_days=days_in_month[month-1]\n",
    "    print(f\"{month_name} has {number_days} days.\")\n",
    "else:\n",
    "    print(\"Invalid input. Please enter a number between 1 and 12.\")"
   ]
  },
  {
   "cell_type": "markdown",
   "id": "69bce2f1",
   "metadata": {},
   "source": [
    "Task 4: Triangle\n",
    "Accept three sides of a triangle and check whether it is an equilateral, isosceles, or scalene \n",
    "triangle."
   ]
  },
  {
   "cell_type": "code",
   "execution_count": 12,
   "id": "8c38e701",
   "metadata": {},
   "outputs": [
    {
     "name": "stdout",
     "output_type": "stream",
     "text": [
      "Enter the length of side 1: 5\n",
      "Enter the length of side 2: 6\n",
      "Enter the length of side 3: 5\n",
      "Triangle is a isoceles.\n"
     ]
    }
   ],
   "source": [
    "side1=float(input(\"Enter the length of side 1: \"))\n",
    "side2=float(input(\"Enter the length of side 2: \"))\n",
    "side3=float(input(\"Enter the length of side 3: \"))\n",
    "if side1 + side2 > side3 and side1 + side3 > side2 and side2 + side3 >side1:\n",
    "    if side1==side2==side3:\n",
    "        print(\"Triangle is an equilateral.\")\n",
    "    elif side1==side2 or side1==side3 or side2==side3:\n",
    "        print(\"Triangle is a isoceles.\")\n",
    "    else:\n",
    "        print(\"Triangle is a Scalene.\")"
   ]
  },
  {
   "cell_type": "markdown",
   "id": "82057973",
   "metadata": {},
   "source": [
    "Task 5: List Comprehension and Filtering\n",
    "A. Create a list of named numbers containing integers from 21 to 40.\n",
    "B. Use list comprehension to create a new list named even_squares containing the squares of \n",
    "even numbers from numbers.\n",
    "C. Use list comprehension to create a new list named odd_cubes containing the cubes of odd \n",
    "numbers from numbers"
   ]
  },
  {
   "cell_type": "code",
   "execution_count": 19,
   "id": "4e8c2320",
   "metadata": {},
   "outputs": [
    {
     "name": "stdout",
     "output_type": "stream",
     "text": [
      "Original numbers:  [21, 22, 23, 24, 25, 26, 27, 28, 29, 30, 31, 32, 33, 34, 35, 36, 37, 38, 39, 40]\n",
      "Even squares:  [484, 576, 676, 784, 900, 1024, 1156, 1296, 1444, 1600]\n",
      "Odd cubes:  [9261, 12167, 15625, 19683, 24389, 29791, 35937, 42875, 50653, 59319]\n"
     ]
    }
   ],
   "source": [
    "numbers= list(range(21,41))\n",
    "even_squares=[x**2 if x%2==0 else None for x in numbers]\n",
    "odd_cubes=[x**3 if x%2!=0 else None for x in numbers]\n",
    "even_squares=[x for x in even_squares if x is not None]\n",
    "odd_cubes=[x for x in odd_cubes if x is not None]\n",
    "print(\"Original numbers: \",numbers)\n",
    "print(\"Even squares: \",even_squares)\n",
    "print(\"Odd cubes: \",odd_cubes)"
   ]
  },
  {
   "cell_type": "code",
   "execution_count": null,
   "id": "01caa6a1",
   "metadata": {},
   "outputs": [],
   "source": []
  }
 ],
 "metadata": {
  "kernelspec": {
   "display_name": "Python 3 (ipykernel)",
   "language": "python",
   "name": "python3"
  },
  "language_info": {
   "codemirror_mode": {
    "name": "ipython",
    "version": 3
   },
   "file_extension": ".py",
   "mimetype": "text/x-python",
   "name": "python",
   "nbconvert_exporter": "python",
   "pygments_lexer": "ipython3",
   "version": "3.11.4"
  }
 },
 "nbformat": 4,
 "nbformat_minor": 5
}
